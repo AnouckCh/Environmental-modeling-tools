{
 "cells": [
  {
   "cell_type": "markdown",
   "id": "96e4daf7-907d-4b6a-a8d5-0a7e387a0a57",
   "metadata": {},
   "source": [
    "# Install python on your computer\n",
    "For some of the excercises in this course, you will learn some basic programming in python (it’s a lot of fun :) ) and you will therefore need to install it if you are planning to use your own laptop. \n",
    "\n",
    "## Step 1: install anaconda\n",
    "We recommend that you install the anaconda distribution which gives you python, the most used python packages (types of functions) and a graphical user interface (GUI) called the Navigator. To install it go here: \n",
    "https://docs.anaconda.com/free/anaconda/install/index.html\n",
    "\n",
    "Click on the operating system that you are using and follow the installation instructions. "
   ]
  },
  {
   "cell_type": "markdown",
   "id": "dd7928af-fcb4-4831-9246-4562b44ccb1e",
   "metadata": {},
   "source": [
    "## Step 2: Install conda-libmamba-solver"
   ]
  },
  {
   "cell_type": "markdown",
   "id": "ce9c915d-5eef-420e-9c21-0130a62f2162",
   "metadata": {},
   "source": [
    "### OPTION 2.1 with Anaconda navigator\n",
    "Go to \"Environments\":\n",
    "\n",
    "![image.png](./Image1.png)\n",
    "\n",
    "Select \"base\" environment and then \"All\" in the drop down menu: \n",
    "![image.png](./Image2.png)"
   ]
  },
  {
   "cell_type": "markdown",
   "id": "864ce0d3-d855-4e83-9ad4-00149f294b17",
   "metadata": {},
   "source": [
    "Then search for 'conda-libmamba-solver' and install or update the package. \n",
    "![image.png](./Image3.png)"
   ]
  },
  {
   "cell_type": "markdown",
   "id": "6abc16b3-24c9-4ddb-8168-b3e2f2abdc48",
   "metadata": {},
   "source": [
    "### OPTION 2.2: With the terminal\n",
    "\n",
    "Write \n",
    "```bash\n",
    "conda update -n base conda\n",
    "```\n",
    "in the command line followed by:\n",
    "```\n",
    "conda install -n base conda-libmamba-solver                                                                                                                           \n",
    "conda config --set solver libmamba\n",
    "```"
   ]
  },
  {
   "cell_type": "markdown",
   "id": "bebf80df-2962-439b-8055-0798e6224948",
   "metadata": {},
   "source": [
    "## Step 3: Install environment (CAN TAKE A MOMENT!)\n",
    "An environment is a set of packages/software installed together and help ensure that an application can run consistently across different systems.\n",
    "In this course, we've put together a set of software for you to install in a so-called YAML configuration files. The configuration is in the environment file [env_earth-analytics-python_low_lev.yml](env_earth-analytics-python_low_lev.yml). Here you can see what packages are being installed. "
   ]
  },
  {
   "attachments": {},
   "cell_type": "markdown",
   "id": "46f8ba2b-1ca0-40f3-b9e2-6e7744a5168f",
   "metadata": {},
   "source": [
    "### Option 3.1: Use the ANACONDA.NAVIGATOR\n",
    "On the home screen, click \"Environments\" to the right. \n",
    "![image.png](./Image8.png)"
   ]
  },
  {
   "cell_type": "markdown",
   "id": "a490d52d-70d7-46a4-b40a-83097f56c626",
   "metadata": {},
   "source": [
    "Then click \"import\" and choose the 'env_earth-analytics-python_low_lev.yml' file.\n",
    "\n",
    "**This might take a while!**"
   ]
  },
  {
   "cell_type": "markdown",
   "id": "0916e2a6-5bd4-4c59-9e86-0c628fae90e7",
   "metadata": {},
   "source": [
    "### Option 3.2: Install in terminal\n",
    "If you prefer, you can install the environment through the terminal with the following command.  \n",
    "\n",
    "```bash\n",
    "conda env create -f env_earth-analytics-python_low_lev.yml\n",
    "```\n",
    "**Again, this might take a while!**\n",
    "\n",
    "If you use this version, you can then open jupyter lab with your new environment by typing in the terminal\n",
    "\n",
    "```bash\n",
    "conda activate earth-analytics-python_low_lev\n",
    "jupyter lab\n",
    "```"
   ]
  },
  {
   "attachments": {},
   "cell_type": "markdown",
   "id": "3ad2bf4c-2dd3-49fb-b11d-966679175bf9",
   "metadata": {},
   "source": [
    "## Step 4: open Jupyter notebook/lab\n",
    "Once you have installed anaconda, you can open the anaconda Navigator and find the JupyterLab (or Jupyter notebook) and click on \"launch\". \n",
    "![image.png](./Image4.png)\n",
    "\n",
    "This will open a new window in your browser looking something like this: \n",
    "![image.png](./Image5.png)"
   ]
  },
  {
   "cell_type": "markdown",
   "id": "42b11c3a-f07c-496d-b375-80144f94dfb3",
   "metadata": {},
   "source": [
    "You can then open a new notebook by clicking the \"Notebook Python 3\". You are now ready to execute your first lines of code!!\n",
    "\n",
    "Write:"
   ]
  },
  {
   "cell_type": "markdown",
   "id": "53de477d-5892-4a89-8539-ce0536fb7ac0",
   "metadata": {},
   "source": [
    "```python\n",
    "print('Hello world!')\n",
    "````\n"
   ]
  },
  {
   "cell_type": "markdown",
   "id": "fd70d4f8-abd5-4d50-8b9b-3fc694abcbfc",
   "metadata": {},
   "source": [
    "And click shift + enter!"
   ]
  },
  {
   "attachments": {},
   "cell_type": "markdown",
   "id": "e15674aa-8800-4632-8586-f1ed92b35289",
   "metadata": {},
   "source": [
    "## Step 5: \n",
    "Get to know the very basics of python :) \n",
    "\n",
    "### The jupyter notebook coding environment\n",
    "\n",
    "The jupyter notebook consists of cells which can be code cells (the default), markdown cells (text with layouyt cells) and raw cells (only text). To start with you just need to think about the code cells really. \n",
    "![image.png](./Image6.png) \n",
    "\n",
    "(source: https://libguides.tulane.edu/introtopython/anacondanav) "
   ]
  },
  {
   "cell_type": "markdown",
   "id": "22c62157-7ce8-4848-ab95-29008929c2ab",
   "metadata": {},
   "source": [
    "### Basic python\n",
    "This page is quite good as a look up to learn the very basic python: https://www.pythontutorial.net/python-basics/\n",
    "No need to go through all of it, but it might be helpful to check as you are working :) \n",
    "\n"
   ]
  },
  {
   "cell_type": "markdown",
   "id": "05fcc48d-20b8-444a-9b32-34310ed06c8f",
   "metadata": {},
   "source": [
    "## Some short explenation of what we've done so far\n",
    "A lot of words came up in this short instruction: Anaconda, navigator, jupyter, python. What are they all? You don't really need to get it in order to use it, but \n",
    "1) Python is the actual programming language\n",
    "2) anaconda is like a user ready python setup which includes a lot of different things it thinks you might need\n",
    "3) the navigator is the GUI that comes with anaconda\n",
    "4) Jupyter is a code development environment. In principle, we could write python code in whatever software produces a simple text file (in fact this is how we started when some of us were young...), but jupyter notebooks makes it easy and simple to execute code and to comment it as we go. "
   ]
  }
 ],
 "metadata": {
  "kernelspec": {
   "display_name": "Python 3 (ipykernel)",
   "language": "python",
   "name": "python3"
  },
  "language_info": {
   "codemirror_mode": {
    "name": "ipython",
    "version": 3
   },
   "file_extension": ".py",
   "mimetype": "text/x-python",
   "name": "python",
   "nbconvert_exporter": "python",
   "pygments_lexer": "ipython3",
   "version": "3.12.7"
  }
 },
 "nbformat": 4,
 "nbformat_minor": 5
}
